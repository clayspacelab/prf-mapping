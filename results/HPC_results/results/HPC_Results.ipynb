{
 "cells": [
  {
   "cell_type": "code",
   "execution_count": 1,
   "id": "43da5509-15ef-4d99-96f9-f6d8ba57beeb",
   "metadata": {},
   "outputs": [],
   "source": [
    "import nibabel as nib\n",
    "import numpy as np"
   ]
  },
  {
   "cell_type": "code",
   "execution_count": 2,
   "id": "e287e739-af5b-4e32-8517-ccbc1a7a58a4",
   "metadata": {},
   "outputs": [],
   "source": [
    "nii = nib.load('prf_css.nii.gz')"
   ]
  },
  {
   "cell_type": "code",
   "execution_count": 3,
   "id": "6e757c93-57ef-46ae-a087-00e8f8eaa23f",
   "metadata": {},
   "outputs": [
    {
     "data": {
      "text/plain": [
       "<nibabel.nifti1.Nifti1Image at 0x110953ef0>"
      ]
     },
     "execution_count": 3,
     "metadata": {},
     "output_type": "execute_result"
    }
   ],
   "source": [
    "nii"
   ]
  },
  {
   "cell_type": "code",
   "execution_count": 4,
   "id": "d8afc855-68bb-46fe-b130-e0439b71528b",
   "metadata": {},
   "outputs": [],
   "source": [
    "nii_data = nii.get_fdata()"
   ]
  },
  {
   "cell_type": "code",
   "execution_count": 5,
   "id": "4546c17a-eea6-4869-a540-82d94e459544",
   "metadata": {},
   "outputs": [
    {
     "data": {
      "text/plain": [
       "(128, 128, 128, 7)"
      ]
     },
     "execution_count": 5,
     "metadata": {},
     "output_type": "execute_result"
    }
   ],
   "source": [
    "nii_data.shape"
   ]
  },
  {
   "cell_type": "code",
   "execution_count": 6,
   "id": "9f611947-e1a2-4aa8-af06-2890ee08a0a7",
   "metadata": {},
   "outputs": [],
   "source": [
    "nii_data_first_frame = nii_data[:, :, :, 0]"
   ]
  },
  {
   "cell_type": "code",
   "execution_count": 7,
   "id": "908f1056-6d48-4bb5-9dae-a0bb80338d41",
   "metadata": {},
   "outputs": [
    {
     "data": {
      "text/plain": [
       "array([[[0., 0., 0., ..., 0., 0., 0.],\n",
       "        [0., 0., 0., ..., 0., 0., 0.],\n",
       "        [0., 0., 0., ..., 0., 0., 0.],\n",
       "        ...,\n",
       "        [0., 0., 0., ..., 0., 0., 0.],\n",
       "        [0., 0., 0., ..., 0., 0., 0.],\n",
       "        [0., 0., 0., ..., 0., 0., 0.]],\n",
       "\n",
       "       [[0., 0., 0., ..., 0., 0., 0.],\n",
       "        [0., 0., 0., ..., 0., 0., 0.],\n",
       "        [0., 0., 0., ..., 0., 0., 0.],\n",
       "        ...,\n",
       "        [0., 0., 0., ..., 0., 0., 0.],\n",
       "        [0., 0., 0., ..., 0., 0., 0.],\n",
       "        [0., 0., 0., ..., 0., 0., 0.]],\n",
       "\n",
       "       [[0., 0., 0., ..., 0., 0., 0.],\n",
       "        [0., 0., 0., ..., 0., 0., 0.],\n",
       "        [0., 0., 0., ..., 0., 0., 0.],\n",
       "        ...,\n",
       "        [0., 0., 0., ..., 0., 0., 0.],\n",
       "        [0., 0., 0., ..., 0., 0., 0.],\n",
       "        [0., 0., 0., ..., 0., 0., 0.]],\n",
       "\n",
       "       ...,\n",
       "\n",
       "       [[0., 0., 0., ..., 0., 0., 0.],\n",
       "        [0., 0., 0., ..., 0., 0., 0.],\n",
       "        [0., 0., 0., ..., 0., 0., 0.],\n",
       "        ...,\n",
       "        [0., 0., 0., ..., 0., 0., 0.],\n",
       "        [0., 0., 0., ..., 0., 0., 0.],\n",
       "        [0., 0., 0., ..., 0., 0., 0.]],\n",
       "\n",
       "       [[0., 0., 0., ..., 0., 0., 0.],\n",
       "        [0., 0., 0., ..., 0., 0., 0.],\n",
       "        [0., 0., 0., ..., 0., 0., 0.],\n",
       "        ...,\n",
       "        [0., 0., 0., ..., 0., 0., 0.],\n",
       "        [0., 0., 0., ..., 0., 0., 0.],\n",
       "        [0., 0., 0., ..., 0., 0., 0.]],\n",
       "\n",
       "       [[0., 0., 0., ..., 0., 0., 0.],\n",
       "        [0., 0., 0., ..., 0., 0., 0.],\n",
       "        [0., 0., 0., ..., 0., 0., 0.],\n",
       "        ...,\n",
       "        [0., 0., 0., ..., 0., 0., 0.],\n",
       "        [0., 0., 0., ..., 0., 0., 0.],\n",
       "        [0., 0., 0., ..., 0., 0., 0.]]])"
      ]
     },
     "execution_count": 7,
     "metadata": {},
     "output_type": "execute_result"
    }
   ],
   "source": [
    "nii_data_first_frame"
   ]
  },
  {
   "cell_type": "code",
   "execution_count": 8,
   "id": "1db82cbd-513f-44a0-bb91-4566114b48b6",
   "metadata": {},
   "outputs": [
    {
     "data": {
      "text/plain": [
       "(128, 128, 128)"
      ]
     },
     "execution_count": 8,
     "metadata": {},
     "output_type": "execute_result"
    }
   ],
   "source": [
    "nii_data_first_frame.shape"
   ]
  },
  {
   "cell_type": "code",
   "execution_count": 9,
   "id": "15b100bb-3969-4fb1-8866-0e43812cfdf6",
   "metadata": {},
   "outputs": [],
   "source": [
    "num_voxels_greater_than_zero_first_frame = np.sum(nii_data_first_frame > 0)"
   ]
  },
  {
   "cell_type": "code",
   "execution_count": 10,
   "id": "721a3141-7705-441c-8baf-94dd1fab3411",
   "metadata": {},
   "outputs": [
    {
     "data": {
      "text/plain": [
       "64466"
      ]
     },
     "execution_count": 10,
     "metadata": {},
     "output_type": "execute_result"
    }
   ],
   "source": [
    "num_voxels_greater_than_zero_first_frame"
   ]
  },
  {
   "cell_type": "code",
   "execution_count": 11,
   "id": "64d93030-e837-410f-b659-64bd1b79628d",
   "metadata": {},
   "outputs": [],
   "source": [
    "vista_res = nib.load('/Users/aditya/Documents/GitHub/prf-mapping/temp/December 2023/Vista/original_jc_fit/RF_ss5-fFit.nii.gz')"
   ]
  },
  {
   "cell_type": "code",
   "execution_count": 12,
   "id": "fe198655-269e-482f-b0e3-29901070bfc6",
   "metadata": {},
   "outputs": [
    {
     "data": {
      "text/plain": [
       "<nibabel.nifti1.Nifti1Image at 0x112c2cd90>"
      ]
     },
     "execution_count": 12,
     "metadata": {},
     "output_type": "execute_result"
    }
   ],
   "source": [
    "vista_res"
   ]
  },
  {
   "cell_type": "code",
   "execution_count": 13,
   "id": "483f4c3f-1788-4131-b711-617f6611c5e0",
   "metadata": {},
   "outputs": [],
   "source": [
    "vista_res_data = vista_res.get_fdata()"
   ]
  },
  {
   "cell_type": "code",
   "execution_count": 14,
   "id": "f731d607-3e72-4197-b1d6-45d48efe584d",
   "metadata": {},
   "outputs": [
    {
     "data": {
      "text/plain": [
       "(128, 128, 128, 8)"
      ]
     },
     "execution_count": 14,
     "metadata": {},
     "output_type": "execute_result"
    }
   ],
   "source": [
    "vista_res_data.shape"
   ]
  },
  {
   "cell_type": "code",
   "execution_count": 15,
   "id": "d6cb7180-3081-44c6-b2bf-1c638b68c17a",
   "metadata": {},
   "outputs": [],
   "source": [
    "vista_res_first_frame = vista_res_data[:, :, :, 0]"
   ]
  },
  {
   "cell_type": "code",
   "execution_count": 16,
   "id": "6f73f1e7-1071-46dd-a358-c2bbfaeef3e2",
   "metadata": {},
   "outputs": [],
   "source": [
    "num_voxels_greater_than_zero_first_frame = np.sum(vista_res_first_frame > 0)"
   ]
  },
  {
   "cell_type": "code",
   "execution_count": 17,
   "id": "47e236ba-7980-44a1-8f53-fca8bab23814",
   "metadata": {},
   "outputs": [
    {
     "data": {
      "text/plain": [
       "117155"
      ]
     },
     "execution_count": 17,
     "metadata": {},
     "output_type": "execute_result"
    }
   ],
   "source": [
    "num_voxels_greater_than_zero_first_frame"
   ]
  },
  {
   "cell_type": "code",
   "execution_count": 18,
   "id": "bad15901-dde5-491c-881a-111e9ce9853f",
   "metadata": {},
   "outputs": [],
   "source": [
    "average_vista_res_data = np.mean(vista_res_data, axis=3)"
   ]
  },
  {
   "cell_type": "code",
   "execution_count": 19,
   "id": "980c4867-2d80-497b-b99d-0e5db5272ba9",
   "metadata": {},
   "outputs": [],
   "source": [
    "num_voxels_greater_than_zero = np.sum(average_vista_res_data > 0)"
   ]
  },
  {
   "cell_type": "code",
   "execution_count": 20,
   "id": "486dc710-4c79-427c-8dc6-5d132ec45278",
   "metadata": {},
   "outputs": [
    {
     "data": {
      "text/plain": [
       "2094618"
      ]
     },
     "execution_count": 20,
     "metadata": {},
     "output_type": "execute_result"
    }
   ],
   "source": [
    "num_voxels_greater_than_zero"
   ]
  },
  {
   "cell_type": "code",
   "execution_count": 21,
   "id": "8d72fca2-f6c1-496b-8a20-f776aa5be497",
   "metadata": {},
   "outputs": [],
   "source": [
    "average_nii_data = np.mean(nii_data, axis=3)"
   ]
  },
  {
   "cell_type": "code",
   "execution_count": 22,
   "id": "8681541b-40c7-4d79-8bfd-9a44040eaa36",
   "metadata": {},
   "outputs": [],
   "source": [
    "num_voxels_greater_than_zero_nii_data = np.sum(average_nii_data > 0)"
   ]
  },
  {
   "cell_type": "code",
   "execution_count": 23,
   "id": "09ec8ef3-2805-4e9c-bd2b-7179a0110820",
   "metadata": {},
   "outputs": [
    {
     "data": {
      "text/plain": [
       "64466"
      ]
     },
     "execution_count": 23,
     "metadata": {},
     "output_type": "execute_result"
    }
   ],
   "source": [
    "num_voxels_greater_than_zero_nii_data"
   ]
  },
  {
   "cell_type": "code",
   "execution_count": 24,
   "id": "ee73918c-a827-4c48-87ca-1d1c58c5611a",
   "metadata": {},
   "outputs": [
    {
     "name": "stdout",
     "output_type": "stream",
     "text": [
      "<class 'nibabel.nifti1.Nifti1Header'> object, endian='<'\n",
      "sizeof_hdr      : 348\n",
      "data_type       : b''\n",
      "db_name         : b''\n",
      "extents         : 0\n",
      "session_error   : 0\n",
      "regular         : b'r'\n",
      "dim_info        : 48\n",
      "dim             : [  4 128 128 128   7   1   1   1]\n",
      "intent_p1       : 0.0\n",
      "intent_p2       : 0.0\n",
      "intent_p3       : 0.0\n",
      "intent_code     : none\n",
      "datatype        : float32\n",
      "bitpix          : 32\n",
      "slice_start     : 0\n",
      "pixdim          : [1.  2.  2.  2.  1.3 1.  1.  1. ]\n",
      "vox_offset      : 0.0\n",
      "scl_slope       : nan\n",
      "scl_inter       : nan\n",
      "slice_end       : 127\n",
      "slice_code      : unknown\n",
      "xyzt_units      : 10\n",
      "cal_max         : 0.0\n",
      "cal_min         : 0.0\n",
      "slice_duration  : 0.0\n",
      "toffset         : 0.0\n",
      "glmax           : 0\n",
      "glmin           : 0\n",
      "descrip         : b''\n",
      "aux_file        : b''\n",
      "qform_code      : scanner\n",
      "sform_code      : scanner\n",
      "quatern_b       : 0.0\n",
      "quatern_c       : 0.0\n",
      "quatern_d       : 1.0\n",
      "qoffset_x       : 127.49991\n",
      "qoffset_y       : 126.50009\n",
      "qoffset_z       : -126.5\n",
      "srow_x          : [ -2.       -0.       -0.      127.49991]\n",
      "srow_y          : [ -0.       -2.       -0.      126.50009]\n",
      "srow_z          : [   0.     0.     2.  -126.5]\n",
      "intent_name     : b''\n",
      "magic           : b'n+1'\n"
     ]
    }
   ],
   "source": [
    "print(nii.header)"
   ]
  },
  {
   "cell_type": "code",
   "execution_count": 25,
   "id": "f0ef6940-8386-48c1-9d9f-dc7a3ef9ae0b",
   "metadata": {},
   "outputs": [
    {
     "name": "stdout",
     "output_type": "stream",
     "text": [
      "<class 'nibabel.nifti1.Nifti1Header'> object, endian='<'\n",
      "sizeof_hdr      : 348\n",
      "data_type       : b''\n",
      "db_name         : b''\n",
      "extents         : 0\n",
      "session_error   : 0\n",
      "regular         : b'r'\n",
      "dim_info        : 48\n",
      "dim             : [  4 128 128 128   8   1   1   1]\n",
      "intent_p1       : 0.0\n",
      "intent_p2       : 0.0\n",
      "intent_p3       : 0.0\n",
      "intent_code     : none\n",
      "datatype        : float32\n",
      "bitpix          : 32\n",
      "slice_start     : 0\n",
      "pixdim          : [1.  2.  2.  2.  1.3 0.  0.  0. ]\n",
      "vox_offset      : 0.0\n",
      "scl_slope       : nan\n",
      "scl_inter       : nan\n",
      "slice_end       : 127\n",
      "slice_code      : unknown\n",
      "xyzt_units      : 10\n",
      "cal_max         : 0.0\n",
      "cal_min         : 0.0\n",
      "slice_duration  : 0.0\n",
      "toffset         : 0.0\n",
      "glmax           : 0\n",
      "glmin           : 0\n",
      "descrip         : b''\n",
      "aux_file        : b''\n",
      "qform_code      : scanner\n",
      "sform_code      : scanner\n",
      "quatern_b       : 0.0\n",
      "quatern_c       : 0.0\n",
      "quatern_d       : 1.0\n",
      "qoffset_x       : 127.4999\n",
      "qoffset_y       : 126.5001\n",
      "qoffset_z       : -126.5\n",
      "srow_x          : [ -2.      -0.      -0.     127.4999]\n",
      "srow_y          : [ -0.      -2.      -0.     126.5001]\n",
      "srow_z          : [   0.     0.     2.  -126.5]\n",
      "intent_name     : b''\n",
      "magic           : b'n+1'\n"
     ]
    }
   ],
   "source": [
    "print(vista_res.header)"
   ]
  },
  {
   "cell_type": "code",
   "execution_count": 26,
   "id": "603bfc39-6e9b-45d1-8fec-4d01adfdc489",
   "metadata": {},
   "outputs": [
    {
     "data": {
      "text/plain": [
       "numpy.ndarray"
      ]
     },
     "execution_count": 26,
     "metadata": {},
     "output_type": "execute_result"
    }
   ],
   "source": [
    "type(vista_res_data)"
   ]
  },
  {
   "cell_type": "code",
   "execution_count": 27,
   "id": "19e81ef0-8691-4ebb-b4b7-0e441f64e375",
   "metadata": {},
   "outputs": [
    {
     "data": {
      "text/plain": [
       "False"
      ]
     },
     "execution_count": 27,
     "metadata": {},
     "output_type": "execute_result"
    }
   ],
   "source": [
    "import numpy as np\n",
    "\n",
    "equal_elements = np.array_equal(nii_data, vista_res_data)\n",
    "equal_elements"
   ]
  },
  {
   "cell_type": "code",
   "execution_count": 28,
   "id": "50676ec0-94d2-479d-9b85-099cdb6d4ecb",
   "metadata": {},
   "outputs": [
    {
     "name": "stdout",
     "output_type": "stream",
     "text": [
      "Mean Difference:  56.81906465201817\n",
      "Standard Difference:  898.2954300319196\n"
     ]
    }
   ],
   "source": [
    "mean_difference = np.mean(nii_data) - np.mean(vista_res_data)\n",
    "std_difference = np.std(nii_data) - np.std(vista_res_data)\n",
    "print(\"Mean Difference: \", mean_difference)\n",
    "print(\"Standard Difference: \", std_difference)"
   ]
  },
  {
   "cell_type": "code",
   "execution_count": 29,
   "id": "0b92c5c2-dd03-4208-b921-82cbd63231e1",
   "metadata": {},
   "outputs": [
    {
     "ename": "ValueError",
     "evalue": "operands could not be broadcast together with shapes (128,128,128,7) (128,128,128,8) ",
     "output_type": "error",
     "traceback": [
      "\u001b[0;31m---------------------------------------------------------------------------\u001b[0m",
      "\u001b[0;31mValueError\u001b[0m                                Traceback (most recent call last)",
      "Cell \u001b[0;32mIn[29], line 1\u001b[0m\n\u001b[0;32m----> 1\u001b[0m difference_array \u001b[38;5;241m=\u001b[39m \u001b[43mnii_data\u001b[49m\u001b[43m \u001b[49m\u001b[38;5;241;43m-\u001b[39;49m\u001b[43m \u001b[49m\u001b[43mvista_res_data\u001b[49m\n",
      "\u001b[0;31mValueError\u001b[0m: operands could not be broadcast together with shapes (128,128,128,7) (128,128,128,8) "
     ]
    }
   ],
   "source": [
    "difference_array = nii_data - vista_res_data\n"
   ]
  },
  {
   "cell_type": "code",
   "execution_count": null,
   "id": "d696e993-d2c6-479e-ba16-173cb2d7cd64",
   "metadata": {},
   "outputs": [],
   "source": []
  }
 ],
 "metadata": {
  "kernelspec": {
   "display_name": "prf_fitter",
   "language": "python",
   "name": "python3"
  },
  "language_info": {
   "codemirror_mode": {
    "name": "ipython",
    "version": 3
   },
   "file_extension": ".py",
   "mimetype": "text/x-python",
   "name": "python",
   "nbconvert_exporter": "python",
   "pygments_lexer": "ipython3",
   "version": "3.12.3"
  }
 },
 "nbformat": 4,
 "nbformat_minor": 5
}
