{
 "cells": [
  {
   "cell_type": "code",
   "execution_count": 1,
   "id": "cd8ad357-634a-42f0-a8fa-1ff247855c77",
   "metadata": {},
   "outputs": [
    {
     "ename": "ModuleNotFoundError",
     "evalue": "No module named 'numpy'",
     "output_type": "error",
     "traceback": [
      "\u001b[0;31m---------------------------------------------------------------------------\u001b[0m",
      "\u001b[0;31mModuleNotFoundError\u001b[0m                       Traceback (most recent call last)",
      "Cell \u001b[0;32mIn[1], line 2\u001b[0m\n\u001b[1;32m      1\u001b[0m \u001b[38;5;28;01mimport\u001b[39;00m \u001b[38;5;21;01mctypes\u001b[39;00m\u001b[38;5;241m,\u001b[39m \u001b[38;5;21;01mmultiprocessing\u001b[39;00m\n\u001b[0;32m----> 2\u001b[0m \u001b[38;5;28;01mimport\u001b[39;00m \u001b[38;5;21;01mnumpy\u001b[39;00m \u001b[38;5;28;01mas\u001b[39;00m \u001b[38;5;21;01mnp\u001b[39;00m\n\u001b[1;32m      3\u001b[0m \u001b[38;5;28;01mimport\u001b[39;00m \u001b[38;5;21;01mpopeye\u001b[39;00m\u001b[38;5;21;01m.\u001b[39;00m\u001b[38;5;21;01mog\u001b[39;00m \u001b[38;5;28;01mas\u001b[39;00m \u001b[38;5;21;01mog\u001b[39;00m\n\u001b[1;32m      4\u001b[0m \u001b[38;5;28;01mimport\u001b[39;00m \u001b[38;5;21;01mpopeye\u001b[39;00m\u001b[38;5;21;01m.\u001b[39;00m\u001b[38;5;21;01mutilities\u001b[39;00m \u001b[38;5;28;01mas\u001b[39;00m \u001b[38;5;21;01mutils\u001b[39;00m\n",
      "\u001b[0;31mModuleNotFoundError\u001b[0m: No module named 'numpy'"
     ]
    }
   ],
   "source": [
    "import ctypes, multiprocessing\n",
    "import numpy as np\n",
    "import popeye.og as og\n",
    "import popeye.utilities as utils\n",
    "from popeye.visual_stimulus import VisualStimulus, simulate_bar_stimulus\n",
    "from popeye import css"
   ]
  },
  {
   "cell_type": "code",
   "execution_count": 2,
   "id": "a292fde5-7282-4db6-a1e9-ee6596603846",
   "metadata": {},
   "outputs": [],
   "source": [
    "### STIMULUS\n",
    "## create sweeping bar stimulus\n",
    "sweeps = np.array([-1,0,-1,90,-1,180,-1,270,-1]) # in degrees, -1 is a blank block\n",
    "bar = simulate_bar_stimulus(500, 500, 40, 20, sweeps, 30, 30, 10)"
   ]
  },
  {
   "cell_type": "code",
   "execution_count": 3,
   "id": "bd375b19-e9c3-49fe-9f20-36ff23df4ba4",
   "metadata": {},
   "outputs": [],
   "source": [
    "## create an instance of the Stimulus class\n",
    "stimulus = VisualStimulus(bar, 50, 25, 0.25, 1.0, ctypes.c_int16)"
   ]
  },
  {
   "cell_type": "code",
   "execution_count": 25,
   "id": "c34e4036-900d-4ac4-aa25-5efbcdc00f73",
   "metadata": {},
   "outputs": [
    {
     "data": {
      "text/plain": [
       "17.811033313241005"
      ]
     },
     "execution_count": 25,
     "metadata": {},
     "output_type": "execute_result"
    }
   ],
   "source": [
    "stimulus.ppd"
   ]
  },
  {
   "cell_type": "code",
   "execution_count": 4,
   "id": "78e01980-8757-4267-af3b-2e6e734ff888",
   "metadata": {},
   "outputs": [],
   "source": [
    "### MODEL\n",
    "## initialize the gaussian model\n",
    "model = css.CompressiveSpatialSummationModel(stimulus, utils.double_gamma_hrf)"
   ]
  },
  {
   "cell_type": "code",
   "execution_count": 5,
   "id": "6e3d648a-bb65-4a4c-9641-c059328f7209",
   "metadata": {},
   "outputs": [],
   "source": [
    "## generate a random pRF estimate\n",
    "x = -5.24\n",
    "y = 2.58\n",
    "sigma = 1.24\n",
    "n = 1.2\n",
    "beta = 0.55\n",
    "baseline = -0.88"
   ]
  },
  {
   "cell_type": "code",
   "execution_count": 6,
   "id": "d4d1c1e6-7bee-4182-b529-6a0b95b1cbab",
   "metadata": {},
   "outputs": [],
   "source": [
    "model.hrf_delay = -0.25"
   ]
  },
  {
   "cell_type": "code",
   "execution_count": 7,
   "id": "4abe5118-2fc4-480f-a8b8-0b259e5027ac",
   "metadata": {},
   "outputs": [],
   "source": [
    "## create the time-series for the invented pRF estimate\n",
    "data = model.generate_prediction(x, y, sigma, n, beta, baseline)"
   ]
  },
  {
   "cell_type": "code",
   "execution_count": 8,
   "id": "27e909f6-cd27-4f89-93d9-e3292167bfe5",
   "metadata": {},
   "outputs": [
    {
     "data": {
      "text/plain": [
       "array([-1.43      , -1.43      , -1.43      , -1.43      , -1.43      ,\n",
       "       -1.43      , -1.43      , -1.43      , -1.43      , -1.43      ,\n",
       "       -1.43      , -1.43      , -1.43      , -1.43      , -1.43      ,\n",
       "       -1.43      , -1.43      , -1.43      , -1.43      , -1.43      ,\n",
       "       -1.43      , -1.43      , -1.43      , -1.43      , -1.43      ,\n",
       "       -1.43      , -1.43      , -1.43      , -1.43      , -1.43      ,\n",
       "       -1.43      , -1.42991573, -1.42866971, -1.42085473, -1.38675384,\n",
       "       -1.27297745, -0.97551747, -0.35742026,  0.67523349,  2.07215859,\n",
       "        3.58541777,  4.83545363,  5.47384425,  5.33983963,  4.51426117,\n",
       "        3.24818044,  1.83240853,  0.49497943, -0.63464747, -1.51009622,\n",
       "       -2.13523677, -2.53719199, -2.75149549, -2.81607371, -2.76893671,\n",
       "       -2.64641886, -2.48111979, -2.29996204, -2.1229972 , -1.96326137,\n",
       "       -1.82757074, -1.71789997, -1.63293755, -1.56950465, -1.52365496,\n",
       "       -1.49141666, -1.4692366 , -1.4542233 , -1.44423017, -1.43776305,\n",
       "       -1.43381893, -1.43162983, -1.43058039, -1.43016632, -1.43003728,\n",
       "       -1.43000648, -1.43000094, -1.43000009, -1.43000001, -1.43      ,\n",
       "       -1.43      , -1.43      , -1.43      , -1.43      , -1.43      ,\n",
       "       -1.43      , -1.43      , -1.43      , -1.43      , -1.43      ,\n",
       "       -1.43      , -1.43      , -1.43      , -1.43      , -1.43      ,\n",
       "       -1.43      , -1.43      , -1.43      , -1.43      , -1.42999999,\n",
       "       -1.42999978, -1.42999642, -1.42995586, -1.42959038, -1.42710869,\n",
       "       -1.41429115, -1.36357739, -1.20904675, -0.84004165, -0.12712329,\n",
       "        0.99671568,  2.43479756,  3.89766146,  4.99803093,  5.42543002,\n",
       "        5.08946962,  4.1307848 ,  2.8190233 ,  1.42819265,  0.15609311,\n",
       "       -0.89408638, -1.69199654, -2.2487982 , -2.59399686, -2.76352901,\n",
       "       -2.7950577 , -2.72590673, -2.59120376, -2.42181546, -2.24259189,\n",
       "       -2.07146691, -1.9195908 , -1.79230459, -1.69057779, -1.61252734,\n",
       "       -1.55474157, -1.51327086, -1.48427788, -1.46442538, -1.45103074,\n",
       "       -1.4421574 , -1.43648314, -1.43309087, -1.43127481, -1.43044377,\n",
       "       -1.43012058, -1.43002525, -1.43000399, -1.43000047, -1.43000004,\n",
       "       -1.43      , -1.43      , -1.43      , -1.43      , -1.43      ,\n",
       "       -1.43      , -1.43      , -1.43      , -1.43      , -1.43      ,\n",
       "       -1.43      , -1.43      , -1.43      , -1.42999999, -1.42999975,\n",
       "       -1.4299959 , -1.42995012, -1.42956723, -1.42715914, -1.41489458,\n",
       "       -1.36597389, -1.21380869, -0.84100483, -0.11264804,  1.0339223 ,\n",
       "        2.4948285 ,  3.97500234,  5.08511524,  5.51522801,  5.17172914,\n",
       "        4.19429963,  2.85847539,  1.44476467,  0.15469983, -0.90737842,\n",
       "       -1.71185436, -2.27134456, -2.61667761, -2.78471885, -2.81375104,\n",
       "       -2.74155602, -2.60363973, -2.43117932, -2.24924973, -2.07591083,\n",
       "       -1.92234585, -1.79385765, -1.69133528, -1.61280011, -1.55474894,\n",
       "       -1.51315622, -1.48412405, -1.46426148, -1.45088146, -1.44203744,\n",
       "       -1.43638647, -1.43302002, -1.43122044, -1.43040259, -1.43010205,\n",
       "       -1.4300171 , -1.43      , -1.4299999 , -1.42999822, -1.42997627,\n",
       "       -1.4297632 , -1.42820821, -1.41959788, -1.38309743, -1.26421418,\n",
       "       -0.96407856, -0.35220326,  0.66596544,  2.04353828,  3.53643534,\n",
       "        4.76704461,  5.38803069,  5.24557022,  4.42637873,  3.17855655,\n",
       "        1.78529024,  0.46853374, -0.64483129, -1.50855317, -2.12572248,\n",
       "       -2.52265709, -2.73428971, -2.79808335, -2.75161725, -2.63078493,\n",
       "       -2.46775416, -2.2890688 , -2.1144915 , -1.95687312, -1.82294005,\n",
       "       -1.71465058, -1.63072471, -1.56803808, -1.52270519, -1.49081167,\n",
       "       -1.46887126, -1.45401137, -1.44411087, -1.43770583, -1.43379468,\n",
       "       -1.43163044, -1.43059445, -1.4301729 , -1.43003879, -1.43000661,\n",
       "       -1.43000084, -1.43000008, -1.43000001, -1.43      , -1.43      ,\n",
       "       -1.43      , -1.43      , -1.43      , -1.43      , -1.43      ])"
      ]
     },
     "execution_count": 8,
     "metadata": {},
     "output_type": "execute_result"
    }
   ],
   "source": [
    "data"
   ]
  },
  {
   "cell_type": "code",
   "execution_count": 9,
   "id": "935d6bdc-e7a0-4d8d-89e3-454bca526655",
   "metadata": {},
   "outputs": [
    {
     "data": {
      "text/plain": [
       "(270,)"
      ]
     },
     "execution_count": 9,
     "metadata": {},
     "output_type": "execute_result"
    }
   ],
   "source": [
    "data.shape"
   ]
  },
  {
   "cell_type": "code",
   "execution_count": 10,
   "id": "d4aadcae-17ab-481d-b8f7-ad7128a149ee",
   "metadata": {},
   "outputs": [],
   "source": [
    "## add in some noise\n",
    "data += np.random.uniform(-data.max()/10,data.max()/10,len(data))"
   ]
  },
  {
   "cell_type": "code",
   "execution_count": 11,
   "id": "5ec97d36-e816-495f-86aa-6e4d29d33f1a",
   "metadata": {},
   "outputs": [
    {
     "data": {
      "text/plain": [
       "array([-1.32773004, -1.21721726, -1.47375855, -1.81109291, -1.81923037,\n",
       "       -1.9199178 , -1.42032289, -1.31989756, -1.68299171, -1.53428894,\n",
       "       -1.22485668, -1.80432638, -1.2032887 , -1.24479086, -1.71090977,\n",
       "       -0.97998217, -1.01522128, -1.03059439, -1.38834361, -1.51919571,\n",
       "       -1.15934396, -1.81339746, -1.17528229, -1.48110345, -1.95074475,\n",
       "       -1.91485583, -1.86119065, -1.93344084, -1.77198898, -1.30733212,\n",
       "       -1.48238666, -1.31341791, -1.04658639, -1.84052109, -1.77988937,\n",
       "       -0.97494177, -0.63069318,  0.14901453,  0.81027593,  1.61749809,\n",
       "        4.11873395,  5.32186788,  5.1102549 ,  5.75279226,  4.00646729,\n",
       "        3.52644821,  1.34420393,  0.11216367, -0.83227879, -1.17634178,\n",
       "       -1.83084192, -3.06743002, -2.3208883 , -3.14165178, -2.23360816,\n",
       "       -3.15597312, -2.13833518, -2.51657213, -1.78597941, -1.81635641,\n",
       "       -1.79567572, -2.24296788, -1.99107923, -1.26715367, -1.25705329,\n",
       "       -1.35879882, -1.62758085, -1.93550499, -0.96839038, -1.88662508,\n",
       "       -1.05016874, -1.72778603, -1.91048082, -1.9265838 , -1.16970367,\n",
       "       -1.30644104, -1.24886217, -1.04101815, -1.19960951, -1.35327439,\n",
       "       -0.92853116, -1.00994158, -1.21062687, -1.4418184 , -1.210357  ,\n",
       "       -1.72511756, -1.74083973, -1.57827056, -1.09176251, -1.79294962,\n",
       "       -1.53991112, -1.60351284, -1.03119347, -1.68039794, -1.02154282,\n",
       "       -1.80014306, -0.9160271 , -1.68704218, -1.37789112, -1.4734878 ,\n",
       "       -1.35131526, -1.64866056, -1.04357814, -1.20067521, -1.83929691,\n",
       "       -1.48043456, -0.9570455 , -0.98274189, -0.77856951, -0.38144378,\n",
       "        1.46717606,  1.99444403,  3.43150645,  4.9706627 ,  5.15843379,\n",
       "        5.62873103,  3.59624588,  3.11103463,  1.6066292 , -0.01902034,\n",
       "       -1.15580221, -2.18258082, -2.12547892, -2.25712298, -2.59764572,\n",
       "       -2.24882659, -2.66147479, -2.87509191, -2.09657392, -2.43725642,\n",
       "       -2.58936862, -2.26594593, -1.89384585, -1.62660848, -2.06281591,\n",
       "       -1.72034896, -1.44444418, -1.74168871, -2.01454139, -1.21790562,\n",
       "       -1.11130295, -1.18586398, -1.68105521, -1.5625811 , -1.93093109,\n",
       "       -1.58153239, -1.49205469, -1.24228462, -1.03634567, -0.94523954,\n",
       "       -1.90715643, -1.62333694, -1.06761676, -1.65910621, -1.20939936,\n",
       "       -1.92111371, -1.66545537, -1.1796666 , -1.53609147, -0.90047344,\n",
       "       -1.10262068, -1.2881205 , -1.84460126, -1.68270793, -1.08413268,\n",
       "       -1.44891582, -1.20354914, -1.3937791 , -0.94276649, -1.79297258,\n",
       "       -1.83009916, -1.24751028, -0.56766296, -0.2523799 ,  0.66258925,\n",
       "        2.01249188,  3.69509846,  4.90763644,  6.05920615,  4.85674579,\n",
       "        3.81018641,  2.82832014,  1.21984811,  0.14606035, -1.23939548,\n",
       "       -1.8122069 , -1.72886009, -2.06825032, -2.54358084, -2.71671145,\n",
       "       -2.48498563, -2.22859348, -2.98229632, -1.80211233, -1.74778947,\n",
       "       -2.41419043, -2.32801944, -1.68708388, -1.07490365, -1.2854694 ,\n",
       "       -1.39649959, -1.18300069, -1.52007455, -1.01453347, -0.91669022,\n",
       "       -1.3047101 , -1.05209649, -1.36662018, -1.50568446, -1.28128386,\n",
       "       -1.93136084, -1.70880396, -1.85832346, -1.51153447, -1.72653785,\n",
       "       -1.38964858, -1.36605163, -1.21157433, -1.65509632, -0.83319653,\n",
       "       -0.57610445, -0.42345852,  1.04156978,  2.00830768,  4.00333152,\n",
       "        4.69174765,  5.86704206,  5.50296732,  4.50830338,  2.66531319,\n",
       "        1.30730201,  0.13594751, -0.38970276, -1.09452534, -2.09019494,\n",
       "       -2.63363145, -2.93820549, -2.72009109, -2.44848619, -2.53250183,\n",
       "       -2.73183365, -2.51963375, -2.23050559, -1.56397316, -1.79763257,\n",
       "       -2.11956828, -1.5147985 , -1.9888192 , -1.24349315, -1.02700129,\n",
       "       -1.35839629, -0.99029033, -1.91121319, -1.75608028, -1.26912557,\n",
       "       -1.34066999, -1.44433737, -1.71536342, -1.67314066, -1.7463568 ,\n",
       "       -0.88136237, -1.63240588, -1.01660318, -1.46475671, -1.59623281,\n",
       "       -1.68436368, -1.9271752 , -1.65756972, -1.3530393 , -1.82171051])"
      ]
     },
     "execution_count": 11,
     "metadata": {},
     "output_type": "execute_result"
    }
   ],
   "source": [
    "data"
   ]
  },
  {
   "cell_type": "code",
   "execution_count": 12,
   "id": "22eb66cc-d922-4e1c-bffa-b18ee7bc8920",
   "metadata": {},
   "outputs": [
    {
     "data": {
      "text/plain": [
       "(270,)"
      ]
     },
     "execution_count": 12,
     "metadata": {},
     "output_type": "execute_result"
    }
   ],
   "source": [
    "data.shape"
   ]
  },
  {
   "cell_type": "code",
   "execution_count": null,
   "id": "c3158a2a-6863-4df8-a635-63074c944bba",
   "metadata": {},
   "outputs": [],
   "source": []
  },
  {
   "cell_type": "code",
   "execution_count": 13,
   "id": "5e5737b6-d9e7-421e-ac40-230698673829",
   "metadata": {},
   "outputs": [],
   "source": [
    "### FIT\n",
    "## define search grids\n",
    "# these define min and max of the edge of the initial brute-force search.\n",
    "x_grid = (-10, 10)\n",
    "y_grid = (-10, 10)\n",
    "s_grid = (0.25, 12)\n",
    "n_grid = (.1, 4) #exponent\n"
   ]
  },
  {
   "cell_type": "code",
   "execution_count": null,
   "id": "9e527b17-66c1-4fa9-96ed-f57b4bbc3cd3",
   "metadata": {},
   "outputs": [],
   "source": [
    "x = -5.24\n",
    "y = 2.58\n",
    "sigma = 1.24\n",
    "n = 1.2\n",
    "beta = 0.55"
   ]
  },
  {
   "cell_type": "code",
   "execution_count": 14,
   "id": "09152ef8-838e-4973-a261-7b98ecb258e8",
   "metadata": {},
   "outputs": [],
   "source": [
    "## define search bounds\n",
    "# these define the boundaries of the final gradient-descent search.\n",
    "x_bound = (-12.0, 12.0)\n",
    "y_bound = (-12.0,12.0)\n",
    "s_bound = (1/stimulus.ppd, 12.0) #smallest sigma is a pixel\n",
    "b_bound = (1e-8,None)\n",
    "u_bound = (None,None)\n",
    "n_bound = (1e-1, 4.0)"
   ]
  },
  {
   "cell_type": "code",
   "execution_count": 15,
   "id": "15604143-8c90-4c9f-91af-b4d76f1115c9",
   "metadata": {},
   "outputs": [],
   "source": [
    "## package the grids and bounds\n",
    "grids = (x_grid, y_grid, s_grid, n_grid)\n",
    "bounds = (x_bound, y_bound, s_bound, n_bound, b_bound, u_bound,)"
   ]
  },
  {
   "cell_type": "code",
   "execution_count": 16,
   "id": "34e8d8fd-ae71-4ba7-ac43-a480e0e181a0",
   "metadata": {},
   "outputs": [
    {
     "name": "stdout",
     "output_type": "stream",
     "text": [
      "The gridfit solution was [-10.           0.          12.           4.           0.66435534\n",
      "  -0.88586502], starting gradient descent ...\n",
      "VOXEL=(001,002,003)   TIMEMS=68240   RSQ=0.97  EST=[ 2.6791  5.9215  1.2429  2.2248  0.5444 -0.8859]\n"
     ]
    }
   ],
   "source": [
    "## fit the response\n",
    "# auto_fit = True fits the model on assignment\n",
    "# verbose = 0 is silent\n",
    "# verbose = 1 is a single print\n",
    "# verbose = 2 is very verbose\n",
    "fit = css.CompressiveSpatialSummationFit(model, data, grids, bounds, Ns=3, voxel_index=(1,2,3), auto_fit=True,verbose=2)"
   ]
  },
  {
   "cell_type": "code",
   "execution_count": 17,
   "id": "7a85fdeb-8ec9-4eec-8c99-42463144c6e2",
   "metadata": {},
   "outputs": [
    {
     "name": "stdout",
     "output_type": "stream",
     "text": [
      "<popeye.css.CompressiveSpatialSummationFit object at 0x16e6b8e10>\n"
     ]
    }
   ],
   "source": [
    "print(fit)"
   ]
  },
  {
   "cell_type": "code",
   "execution_count": 18,
   "id": "6d5b3b9d-9675-42b0-a99c-340a21c26838",
   "metadata": {},
   "outputs": [
    {
     "data": {
      "text/plain": [
       "<popeye.css.CompressiveSpatialSummationFit at 0x16e6b8e10>"
      ]
     },
     "execution_count": 18,
     "metadata": {},
     "output_type": "execute_result"
    }
   ],
   "source": [
    "fit"
   ]
  },
  {
   "cell_type": "code",
   "execution_count": 20,
   "id": "35e913e6-1b58-4b22-b670-73337a8363b0",
   "metadata": {},
   "outputs": [
    {
     "data": {
      "text/plain": [
       "array([-10.        ,   0.        ,  12.        ,   4.        ,\n",
       "         0.66435534,  -0.88586502])"
      ]
     },
     "execution_count": 20,
     "metadata": {},
     "output_type": "execute_result"
    }
   ],
   "source": [
    "fit.ballpark"
   ]
  },
  {
   "cell_type": "code",
   "execution_count": 26,
   "id": "36163e02-695e-43a0-8b32-371ce20484e3",
   "metadata": {},
   "outputs": [],
   "source": [
    "temp = fit.estimate"
   ]
  },
  {
   "cell_type": "code",
   "execution_count": 27,
   "id": "eed42c5b-78cc-40fc-99df-4f68c7cec791",
   "metadata": {},
   "outputs": [
    {
     "data": {
      "text/plain": [
       "array([-5.29937977,  2.64212083,  1.85381266,  2.22475528,  0.54438224,\n",
       "       -0.88586339])"
      ]
     },
     "execution_count": 27,
     "metadata": {},
     "output_type": "execute_result"
    }
   ],
   "source": [
    "temp"
   ]
  },
  {
   "cell_type": "code",
   "execution_count": 29,
   "id": "811c6a8f-8c90-44cf-8f99-15c621c701fd",
   "metadata": {},
   "outputs": [],
   "source": [
    "fit_x = temp[0]\n",
    "fit_y = temp[1]\n",
    "fit_sigma = temp[2]\n",
    "fit_n =  temp[3]\n",
    "fit_beta = temp[4]\n",
    "fit_baseline = temp[5]"
   ]
  },
  {
   "cell_type": "code",
   "execution_count": 30,
   "id": "960fac3a-72bf-410d-b2ca-225131bc30eb",
   "metadata": {},
   "outputs": [
    {
     "name": "stdout",
     "output_type": "stream",
     "text": [
      "x:  -5.24 Fit x:  -5.299379770859674\n",
      "y:  2.58 Fit y:  2.642120834360392\n",
      "sigma:  -5.24 Fit sigma:  1.8538126617260344\n",
      "n:  1.2 Fit n:  2.2247552829358783\n",
      "beta:  0.55 Fit beta:  0.5443822416005285\n",
      "baseline:  -0.88 Fit baseline:  -0.8858633947670347\n"
     ]
    }
   ],
   "source": [
    "print(\"x: \", x, \"Fit x: \", fit_x)\n",
    "print(\"y: \", y, \"Fit y: \", fit_y)\n",
    "print(\"sigma: \", x, \"Fit sigma: \", fit_sigma)\n",
    "print(\"n: \", n, \"Fit n: \", fit_n)\n",
    "print(\"beta: \", beta, \"Fit beta: \", fit_beta)\n",
    "print(\"baseline: \", baseline, \"Fit baseline: \", fit_baseline)"
   ]
  },
  {
   "cell_type": "code",
   "execution_count": 22,
   "id": "d3d609bf-9f57-4041-8c9b-65d92c196e33",
   "metadata": {},
   "outputs": [
    {
     "data": {
      "text/plain": [
       "array([-1.43024564, -1.43024564, -1.43024564, -1.43024564, -1.43024564,\n",
       "       -1.43024564, -1.43024564, -1.43024564, -1.43024564, -1.43024564,\n",
       "       -1.43024564, -1.43024564, -1.43024564, -1.43024564, -1.43024564,\n",
       "       -1.43024564, -1.43024564, -1.43024564, -1.43024564, -1.43024564,\n",
       "       -1.43024564, -1.43024564, -1.43024564, -1.43024564, -1.43024564,\n",
       "       -1.43024564, -1.43024564, -1.43024564, -1.43024564, -1.43024564,\n",
       "       -1.43024564, -1.4301195 , -1.42837471, -1.41855976, -1.37960906,\n",
       "       -1.25768497, -0.94981463, -0.31913097,  0.73130761,  2.15402912,\n",
       "        3.684075  ,  4.91351091,  5.48759949,  5.27067567,  4.37854121,\n",
       "        3.08204099,  1.67033553,  0.35812221, -0.73870918, -1.58225792,\n",
       "       -2.17990765, -2.55948759, -2.7562689 , -2.80781293, -2.75181266,\n",
       "       -2.62421067, -2.45703656, -2.27647524, -2.10177065, -1.94520082,\n",
       "       -1.81296428, -1.70660003, -1.62453858, -1.5634898 , -1.5194992 ,\n",
       "       -1.48864982, -1.46747026, -1.45315011, -1.44361926, -1.43744721,\n",
       "       -1.4337346 , -1.43171453, -1.43076849, -1.43039953, -1.43028253,\n",
       "       -1.43025285, -1.43024685, -1.43024578, -1.43024565, -1.43024564,\n",
       "       -1.43024564, -1.43024564, -1.43024564, -1.43024564, -1.43024564,\n",
       "       -1.43024564, -1.43024564, -1.43024564, -1.43024564, -1.43024564,\n",
       "       -1.43024564, -1.43024564, -1.43024564, -1.43024564, -1.43024564,\n",
       "       -1.43024564, -1.43024564, -1.43024564, -1.43024563, -1.4302456 ,\n",
       "       -1.43024509, -1.43023895, -1.4301808 , -1.42974645, -1.42717635,\n",
       "       -1.41506244, -1.36951844, -1.23319384, -0.90448176, -0.25147487,\n",
       "        0.81565639,  2.23174602,  3.72101979,  4.88172552,  5.37701804,\n",
       "        5.09770361,  4.17829813,  2.88946901,  1.50808095,  0.23515618,\n",
       "       -0.82277192, -1.63230519, -2.20221682, -2.56034771, -2.74156056,\n",
       "       -2.78288553, -2.72135542, -2.59208464, -2.42614248, -2.24872441,\n",
       "       -2.07817395, -1.92604577, -1.7980306 , -1.6953674 , -1.61635802,\n",
       "       -1.55770205, -1.51550666, -1.48595397, -1.46569071, -1.45199439,\n",
       "       -1.44288289, -1.43702089, -1.43350066, -1.43161072, -1.4307376 ,\n",
       "       -1.43038957, -1.4302795 , -1.43025199, -1.43024657, -1.43024574,\n",
       "       -1.43024564, -1.43024564, -1.43024564, -1.43024564, -1.43024564,\n",
       "       -1.43024564, -1.43024564, -1.43024564, -1.43024564, -1.43024564,\n",
       "       -1.43024564, -1.43024564, -1.43024563, -1.4302456 , -1.43024501,\n",
       "       -1.43023801, -1.43017262, -1.42971351, -1.4271886 , -1.41549653,\n",
       "       -1.3712663 , -1.23609572, -0.90188478, -0.23140034,  0.86183351,\n",
       "        2.30993175,  3.82863836,  5.00566566,  5.50175848,  5.20750604,\n",
       "        4.2604779 ,  2.9394934 ,  1.52846262,  0.23220642, -0.84140606,\n",
       "       -1.65971077, -2.23319833, -2.59139722, -2.77043315, -2.80821814,\n",
       "       -2.74244096, -2.60874268, -2.43860966, -2.25752942, -2.08400234,\n",
       "       -1.92961669, -1.80000435, -1.69629163, -1.61664936, -1.5576528 ,\n",
       "       -1.51530619, -1.48571085, -1.46544858, -1.45178087, -1.44271268,\n",
       "       -1.43687264, -1.43339698, -1.43153632, -1.43068474, -1.43036343,\n",
       "       -1.43026709, -1.43024562, -1.43024522, -1.43024008, -1.43019038,\n",
       "       -1.42981271, -1.4275398 , -1.41664809, -1.37495257, -1.24771525,\n",
       "       -0.93688688, -0.31162811,  0.72472603,  2.12182867,  3.61852601,\n",
       "        4.81654655,  5.36757415,  5.14279263,  4.26133967,  2.98899922,\n",
       "        1.60610114,  0.32056315, -0.75472919, -1.58222983, -2.16862419,\n",
       "       -2.54091162, -2.73366482, -2.78383588, -2.72851424, -2.60302296,\n",
       "       -2.43879385, -2.26149397, -2.08997342, -1.93625527, -1.80640971,\n",
       "       -1.70194505, -1.62132637, -1.56133014, -1.51807963, -1.48773388,\n",
       "       -1.46690206, -1.45280806, -1.44341789, -1.43735564, -1.43369154,\n",
       "       -1.43170553, -1.43077711, -1.43040437, -1.4302836 , -1.43025288,\n",
       "       -1.43024673, -1.43024576, -1.43024565, -1.43024564, -1.43024564,\n",
       "       -1.43024564, -1.43024564, -1.43024564, -1.43024564, -1.43024564])"
      ]
     },
     "execution_count": 22,
     "metadata": {},
     "output_type": "execute_result"
    }
   ],
   "source": [
    "fit.prediction"
   ]
  },
  {
   "cell_type": "code",
   "execution_count": 23,
   "id": "87908eb6-04fa-4eaa-950f-28c4ee38c14f",
   "metadata": {},
   "outputs": [
    {
     "data": {
      "text/plain": [
       "<matplotlib.legend.Legend at 0x295061610>"
      ]
     },
     "execution_count": 23,
     "metadata": {},
     "output_type": "execute_result"
    },
    {
     "data": {
      "image/png": "[encoded data removed]",
      "text/plain": [
       "<Figure size 640x480 with 1 Axes>"
      ]
     },
     "metadata": {},
     "output_type": "display_data"
    }
   ],
   "source": [
    "import matplotlib.pyplot as plt\n",
    "plt.plot(fit.prediction,c='r',lw=3,label='model',zorder=1)\n",
    "plt.scatter(range(len(fit.data)),fit.data,s=30,c='k',label='data',zorder=2)\n",
    "plt.xticks(fontsize=16)\n",
    "plt.yticks(fontsize=16)\n",
    "plt.xlabel('Time',fontsize=18)\n",
    "plt.ylabel('Amplitude',fontsize=18)\n",
    "plt.xlim(0,len(fit.data))\n",
    "plt.legend(loc=0)"
   ]
  },
  {
   "cell_type": "code",
   "execution_count": 24,
   "id": "d4eb150e-38bb-4001-964f-3f90c2fa8db5",
   "metadata": {},
   "outputs": [
    {
     "data": {
      "text/plain": [
       "array([-1.32773004, -1.21721726, -1.47375855, -1.81109291, -1.81923037,\n",
       "       -1.9199178 , -1.42032289, -1.31989756, -1.68299171, -1.53428894,\n",
       "       -1.22485668, -1.80432638, -1.2032887 , -1.24479086, -1.71090977,\n",
       "       -0.97998217, -1.01522128, -1.03059439, -1.38834361, -1.51919571,\n",
       "       -1.15934396, -1.81339746, -1.17528229, -1.48110345, -1.95074475,\n",
       "       -1.91485583, -1.86119065, -1.93344084, -1.77198898, -1.30733212,\n",
       "       -1.48238666, -1.31341791, -1.04658639, -1.84052109, -1.77988937,\n",
       "       -0.97494177, -0.63069318,  0.14901453,  0.81027593,  1.61749809,\n",
       "        4.11873395,  5.32186788,  5.1102549 ,  5.75279226,  4.00646729,\n",
       "        3.52644821,  1.34420393,  0.11216367, -0.83227879, -1.17634178,\n",
       "       -1.83084192, -3.06743002, -2.3208883 , -3.14165178, -2.23360816,\n",
       "       -3.15597312, -2.13833518, -2.51657213, -1.78597941, -1.81635641,\n",
       "       -1.79567572, -2.24296788, -1.99107923, -1.26715367, -1.25705329,\n",
       "       -1.35879882, -1.62758085, -1.93550499, -0.96839038, -1.88662508,\n",
       "       -1.05016874, -1.72778603, -1.91048082, -1.9265838 , -1.16970367,\n",
       "       -1.30644104, -1.24886217, -1.04101815, -1.19960951, -1.35327439,\n",
       "       -0.92853116, -1.00994158, -1.21062687, -1.4418184 , -1.210357  ,\n",
       "       -1.72511756, -1.74083973, -1.57827056, -1.09176251, -1.79294962,\n",
       "       -1.53991112, -1.60351284, -1.03119347, -1.68039794, -1.02154282,\n",
       "       -1.80014306, -0.9160271 , -1.68704218, -1.37789112, -1.4734878 ,\n",
       "       -1.35131526, -1.64866056, -1.04357814, -1.20067521, -1.83929691,\n",
       "       -1.48043456, -0.9570455 , -0.98274189, -0.77856951, -0.38144378,\n",
       "        1.46717606,  1.99444403,  3.43150645,  4.9706627 ,  5.15843379,\n",
       "        5.62873103,  3.59624588,  3.11103463,  1.6066292 , -0.01902034,\n",
       "       -1.15580221, -2.18258082, -2.12547892, -2.25712298, -2.59764572,\n",
       "       -2.24882659, -2.66147479, -2.87509191, -2.09657392, -2.43725642,\n",
       "       -2.58936862, -2.26594593, -1.89384585, -1.62660848, -2.06281591,\n",
       "       -1.72034896, -1.44444418, -1.74168871, -2.01454139, -1.21790562,\n",
       "       -1.11130295, -1.18586398, -1.68105521, -1.5625811 , -1.93093109,\n",
       "       -1.58153239, -1.49205469, -1.24228462, -1.03634567, -0.94523954,\n",
       "       -1.90715643, -1.62333694, -1.06761676, -1.65910621, -1.20939936,\n",
       "       -1.92111371, -1.66545537, -1.1796666 , -1.53609147, -0.90047344,\n",
       "       -1.10262068, -1.2881205 , -1.84460126, -1.68270793, -1.08413268,\n",
       "       -1.44891582, -1.20354914, -1.3937791 , -0.94276649, -1.79297258,\n",
       "       -1.83009916, -1.24751028, -0.56766296, -0.2523799 ,  0.66258925,\n",
       "        2.01249188,  3.69509846,  4.90763644,  6.05920615,  4.85674579,\n",
       "        3.81018641,  2.82832014,  1.21984811,  0.14606035, -1.23939548,\n",
       "       -1.8122069 , -1.72886009, -2.06825032, -2.54358084, -2.71671145,\n",
       "       -2.48498563, -2.22859348, -2.98229632, -1.80211233, -1.74778947,\n",
       "       -2.41419043, -2.32801944, -1.68708388, -1.07490365, -1.2854694 ,\n",
       "       -1.39649959, -1.18300069, -1.52007455, -1.01453347, -0.91669022,\n",
       "       -1.3047101 , -1.05209649, -1.36662018, -1.50568446, -1.28128386,\n",
       "       -1.93136084, -1.70880396, -1.85832346, -1.51153447, -1.72653785,\n",
       "       -1.38964858, -1.36605163, -1.21157433, -1.65509632, -0.83319653,\n",
       "       -0.57610445, -0.42345852,  1.04156978,  2.00830768,  4.00333152,\n",
       "        4.69174765,  5.86704206,  5.50296732,  4.50830338,  2.66531319,\n",
       "        1.30730201,  0.13594751, -0.38970276, -1.09452534, -2.09019494,\n",
       "       -2.63363145, -2.93820549, -2.72009109, -2.44848619, -2.53250183,\n",
       "       -2.73183365, -2.51963375, -2.23050559, -1.56397316, -1.79763257,\n",
       "       -2.11956828, -1.5147985 , -1.9888192 , -1.24349315, -1.02700129,\n",
       "       -1.35839629, -0.99029033, -1.91121319, -1.75608028, -1.26912557,\n",
       "       -1.34066999, -1.44433737, -1.71536342, -1.67314066, -1.7463568 ,\n",
       "       -0.88136237, -1.63240588, -1.01660318, -1.46475671, -1.59623281,\n",
       "       -1.68436368, -1.9271752 , -1.65756972, -1.3530393 , -1.82171051])"
      ]
     },
     "execution_count": 24,
     "metadata": {},
     "output_type": "execute_result"
    }
   ],
   "source": [
    "fit.data"
   ]
  },
  {
   "cell_type": "code",
   "execution_count": null,
   "id": "fccf9e97-434e-4ec0-ad7d-4989a0a9375a",
   "metadata": {},
   "outputs": [],
   "source": []
  }
 ],
 "metadata": {
  "kernelspec": {
   "display_name": "popeye",
   "language": "python",
   "name": "python3"
  },
  "language_info": {
   "codemirror_mode": {
    "name": "ipython",
    "version": 3
   },
   "file_extension": ".py",
   "mimetype": "text/x-python",
   "name": "python",
   "nbconvert_exporter": "python",
   "pygments_lexer": "ipython3",
   "version": "3.12.3"
  }
 },
 "nbformat": 4,
 "nbformat_minor": 5
}
